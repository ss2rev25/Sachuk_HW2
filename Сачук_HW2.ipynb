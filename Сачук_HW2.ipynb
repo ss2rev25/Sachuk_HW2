{
 "cells": [
  {
   "cell_type": "code",
   "execution_count": 1,
   "outputs": [],
   "source": [
    "import pandas as pd"
   ],
   "metadata": {
    "collapsed": false
   }
  },
  {
   "cell_type": "markdown",
   "source": [
    "Завдання 1\n",
    "1. Прочитайте CSV файл (використовуйте метод read_csv)"
   ],
   "metadata": {
    "collapsed": false
   }
  },
  {
   "cell_type": "code",
   "execution_count": 2,
   "metadata": {
    "collapsed": true
   },
   "outputs": [
    {
     "data": {
      "text/plain": "     rank                    Youtuber  subscribers   video views  \\\n0       1                    T-Series    245000000  2.280000e+11   \n1       2              YouTube Movies    170000000  0.000000e+00   \n2       3                     MrBeast    166000000  2.836884e+10   \n3       4  Cocomelon - Nursery Rhymes    162000000  1.640000e+11   \n4       5                   SET India    159000000  1.480000e+11   \n..    ...                         ...          ...           ...   \n990   991               Natan por Aï¿     12300000  9.029610e+09   \n991   992    Free Fire India Official     12300000  1.674410e+09   \n992   993                       Panda     12300000  2.214684e+09   \n993   994                 RobTopGames     12300000  3.741235e+08   \n994   995                Make Joke Of     12300000  2.129774e+09   \n\n             category                       Title  uploads         Country  \\\n0               Music                    T-Series    20082           India   \n1    Film & Animation               youtubemovies        1   United States   \n2       Entertainment                     MrBeast      741   United States   \n3           Education  Cocomelon - Nursery Rhymes      966   United States   \n4               Shows                   SET India   116536           India   \n..                ...                         ...      ...             ...   \n990            Sports               Natan por Aï¿     1200          Brazil   \n991    People & Blogs    Free Fire India Official     1500           India   \n992               NaN                 HybridPanda     2452  United Kingdom   \n993            Gaming                 RobTopGames       39          Sweden   \n994            Comedy                Make Joke Of       62           India   \n\n    Abbreviation   channel_type  ...  subscribers_for_last_30_days  \\\n0             IN          Music  ...                     2000000.0   \n1             US          Games  ...                           NaN   \n2             US  Entertainment  ...                     8000000.0   \n3             US      Education  ...                     1000000.0   \n4             IN  Entertainment  ...                     1000000.0   \n..           ...            ...  ...                           ...   \n990           BR  Entertainment  ...                      700000.0   \n991           IN          Games  ...                      300000.0   \n992           GB          Games  ...                        1000.0   \n993           SE          Games  ...                      100000.0   \n994           IN         Comedy  ...                      100000.0   \n\n     created_year  created_month  created_date  \\\n0          2006.0            Mar          13.0   \n1          2006.0            Mar           5.0   \n2          2012.0            Feb          20.0   \n3          2006.0            Sep           1.0   \n4          2006.0            Sep          20.0   \n..            ...            ...           ...   \n990        2017.0            Feb          12.0   \n991        2018.0            Sep          14.0   \n992        2006.0            Sep          11.0   \n993        2012.0            May           9.0   \n994        2017.0            Aug           1.0   \n\n     Gross tertiary education enrollment (%)    Population  Unemployment rate  \\\n0                                       28.1  1.366418e+09               5.36   \n1                                       88.2  3.282395e+08              14.70   \n2                                       88.2  3.282395e+08              14.70   \n3                                       88.2  3.282395e+08              14.70   \n4                                       28.1  1.366418e+09               5.36   \n..                                       ...           ...                ...   \n990                                     51.3  2.125594e+08              12.08   \n991                                     28.1  1.366418e+09               5.36   \n992                                     60.0  6.683440e+07               3.85   \n993                                     67.0  1.028545e+07               6.48   \n994                                     28.1  1.366418e+09               5.36   \n\n     Urban_population   Latitude  Longitude  \n0         471031528.0  20.593684  78.962880  \n1         270663028.0  37.090240 -95.712891  \n2         270663028.0  37.090240 -95.712891  \n3         270663028.0  37.090240 -95.712891  \n4         471031528.0  20.593684  78.962880  \n..                ...        ...        ...  \n990       183241641.0 -14.235004 -51.925280  \n991       471031528.0  20.593684  78.962880  \n992        55908316.0  55.378051  -3.435973  \n993         9021165.0  60.128161  18.643501  \n994       471031528.0  20.593684  78.962880  \n\n[995 rows x 28 columns]",
      "text/html": "<div>\n<style scoped>\n    .dataframe tbody tr th:only-of-type {\n        vertical-align: middle;\n    }\n\n    .dataframe tbody tr th {\n        vertical-align: top;\n    }\n\n    .dataframe thead th {\n        text-align: right;\n    }\n</style>\n<table border=\"1\" class=\"dataframe\">\n  <thead>\n    <tr style=\"text-align: right;\">\n      <th></th>\n      <th>rank</th>\n      <th>Youtuber</th>\n      <th>subscribers</th>\n      <th>video views</th>\n      <th>category</th>\n      <th>Title</th>\n      <th>uploads</th>\n      <th>Country</th>\n      <th>Abbreviation</th>\n      <th>channel_type</th>\n      <th>...</th>\n      <th>subscribers_for_last_30_days</th>\n      <th>created_year</th>\n      <th>created_month</th>\n      <th>created_date</th>\n      <th>Gross tertiary education enrollment (%)</th>\n      <th>Population</th>\n      <th>Unemployment rate</th>\n      <th>Urban_population</th>\n      <th>Latitude</th>\n      <th>Longitude</th>\n    </tr>\n  </thead>\n  <tbody>\n    <tr>\n      <th>0</th>\n      <td>1</td>\n      <td>T-Series</td>\n      <td>245000000</td>\n      <td>2.280000e+11</td>\n      <td>Music</td>\n      <td>T-Series</td>\n      <td>20082</td>\n      <td>India</td>\n      <td>IN</td>\n      <td>Music</td>\n      <td>...</td>\n      <td>2000000.0</td>\n      <td>2006.0</td>\n      <td>Mar</td>\n      <td>13.0</td>\n      <td>28.1</td>\n      <td>1.366418e+09</td>\n      <td>5.36</td>\n      <td>471031528.0</td>\n      <td>20.593684</td>\n      <td>78.962880</td>\n    </tr>\n    <tr>\n      <th>1</th>\n      <td>2</td>\n      <td>YouTube Movies</td>\n      <td>170000000</td>\n      <td>0.000000e+00</td>\n      <td>Film &amp; Animation</td>\n      <td>youtubemovies</td>\n      <td>1</td>\n      <td>United States</td>\n      <td>US</td>\n      <td>Games</td>\n      <td>...</td>\n      <td>NaN</td>\n      <td>2006.0</td>\n      <td>Mar</td>\n      <td>5.0</td>\n      <td>88.2</td>\n      <td>3.282395e+08</td>\n      <td>14.70</td>\n      <td>270663028.0</td>\n      <td>37.090240</td>\n      <td>-95.712891</td>\n    </tr>\n    <tr>\n      <th>2</th>\n      <td>3</td>\n      <td>MrBeast</td>\n      <td>166000000</td>\n      <td>2.836884e+10</td>\n      <td>Entertainment</td>\n      <td>MrBeast</td>\n      <td>741</td>\n      <td>United States</td>\n      <td>US</td>\n      <td>Entertainment</td>\n      <td>...</td>\n      <td>8000000.0</td>\n      <td>2012.0</td>\n      <td>Feb</td>\n      <td>20.0</td>\n      <td>88.2</td>\n      <td>3.282395e+08</td>\n      <td>14.70</td>\n      <td>270663028.0</td>\n      <td>37.090240</td>\n      <td>-95.712891</td>\n    </tr>\n    <tr>\n      <th>3</th>\n      <td>4</td>\n      <td>Cocomelon - Nursery Rhymes</td>\n      <td>162000000</td>\n      <td>1.640000e+11</td>\n      <td>Education</td>\n      <td>Cocomelon - Nursery Rhymes</td>\n      <td>966</td>\n      <td>United States</td>\n      <td>US</td>\n      <td>Education</td>\n      <td>...</td>\n      <td>1000000.0</td>\n      <td>2006.0</td>\n      <td>Sep</td>\n      <td>1.0</td>\n      <td>88.2</td>\n      <td>3.282395e+08</td>\n      <td>14.70</td>\n      <td>270663028.0</td>\n      <td>37.090240</td>\n      <td>-95.712891</td>\n    </tr>\n    <tr>\n      <th>4</th>\n      <td>5</td>\n      <td>SET India</td>\n      <td>159000000</td>\n      <td>1.480000e+11</td>\n      <td>Shows</td>\n      <td>SET India</td>\n      <td>116536</td>\n      <td>India</td>\n      <td>IN</td>\n      <td>Entertainment</td>\n      <td>...</td>\n      <td>1000000.0</td>\n      <td>2006.0</td>\n      <td>Sep</td>\n      <td>20.0</td>\n      <td>28.1</td>\n      <td>1.366418e+09</td>\n      <td>5.36</td>\n      <td>471031528.0</td>\n      <td>20.593684</td>\n      <td>78.962880</td>\n    </tr>\n    <tr>\n      <th>...</th>\n      <td>...</td>\n      <td>...</td>\n      <td>...</td>\n      <td>...</td>\n      <td>...</td>\n      <td>...</td>\n      <td>...</td>\n      <td>...</td>\n      <td>...</td>\n      <td>...</td>\n      <td>...</td>\n      <td>...</td>\n      <td>...</td>\n      <td>...</td>\n      <td>...</td>\n      <td>...</td>\n      <td>...</td>\n      <td>...</td>\n      <td>...</td>\n      <td>...</td>\n      <td>...</td>\n    </tr>\n    <tr>\n      <th>990</th>\n      <td>991</td>\n      <td>Natan por Aï¿</td>\n      <td>12300000</td>\n      <td>9.029610e+09</td>\n      <td>Sports</td>\n      <td>Natan por Aï¿</td>\n      <td>1200</td>\n      <td>Brazil</td>\n      <td>BR</td>\n      <td>Entertainment</td>\n      <td>...</td>\n      <td>700000.0</td>\n      <td>2017.0</td>\n      <td>Feb</td>\n      <td>12.0</td>\n      <td>51.3</td>\n      <td>2.125594e+08</td>\n      <td>12.08</td>\n      <td>183241641.0</td>\n      <td>-14.235004</td>\n      <td>-51.925280</td>\n    </tr>\n    <tr>\n      <th>991</th>\n      <td>992</td>\n      <td>Free Fire India Official</td>\n      <td>12300000</td>\n      <td>1.674410e+09</td>\n      <td>People &amp; Blogs</td>\n      <td>Free Fire India Official</td>\n      <td>1500</td>\n      <td>India</td>\n      <td>IN</td>\n      <td>Games</td>\n      <td>...</td>\n      <td>300000.0</td>\n      <td>2018.0</td>\n      <td>Sep</td>\n      <td>14.0</td>\n      <td>28.1</td>\n      <td>1.366418e+09</td>\n      <td>5.36</td>\n      <td>471031528.0</td>\n      <td>20.593684</td>\n      <td>78.962880</td>\n    </tr>\n    <tr>\n      <th>992</th>\n      <td>993</td>\n      <td>Panda</td>\n      <td>12300000</td>\n      <td>2.214684e+09</td>\n      <td>NaN</td>\n      <td>HybridPanda</td>\n      <td>2452</td>\n      <td>United Kingdom</td>\n      <td>GB</td>\n      <td>Games</td>\n      <td>...</td>\n      <td>1000.0</td>\n      <td>2006.0</td>\n      <td>Sep</td>\n      <td>11.0</td>\n      <td>60.0</td>\n      <td>6.683440e+07</td>\n      <td>3.85</td>\n      <td>55908316.0</td>\n      <td>55.378051</td>\n      <td>-3.435973</td>\n    </tr>\n    <tr>\n      <th>993</th>\n      <td>994</td>\n      <td>RobTopGames</td>\n      <td>12300000</td>\n      <td>3.741235e+08</td>\n      <td>Gaming</td>\n      <td>RobTopGames</td>\n      <td>39</td>\n      <td>Sweden</td>\n      <td>SE</td>\n      <td>Games</td>\n      <td>...</td>\n      <td>100000.0</td>\n      <td>2012.0</td>\n      <td>May</td>\n      <td>9.0</td>\n      <td>67.0</td>\n      <td>1.028545e+07</td>\n      <td>6.48</td>\n      <td>9021165.0</td>\n      <td>60.128161</td>\n      <td>18.643501</td>\n    </tr>\n    <tr>\n      <th>994</th>\n      <td>995</td>\n      <td>Make Joke Of</td>\n      <td>12300000</td>\n      <td>2.129774e+09</td>\n      <td>Comedy</td>\n      <td>Make Joke Of</td>\n      <td>62</td>\n      <td>India</td>\n      <td>IN</td>\n      <td>Comedy</td>\n      <td>...</td>\n      <td>100000.0</td>\n      <td>2017.0</td>\n      <td>Aug</td>\n      <td>1.0</td>\n      <td>28.1</td>\n      <td>1.366418e+09</td>\n      <td>5.36</td>\n      <td>471031528.0</td>\n      <td>20.593684</td>\n      <td>78.962880</td>\n    </tr>\n  </tbody>\n</table>\n<p>995 rows × 28 columns</p>\n</div>"
     },
     "execution_count": 2,
     "metadata": {},
     "output_type": "execute_result"
    }
   ],
   "source": [
    "data = pd.read_csv(\"c:/Users/ivan/Desktop/Unik/КСВД/Сачук_HW2/Global YouTube Statistics.csv\", encoding=\"latin-1\")\n",
    "data"
   ]
  },
  {
   "cell_type": "markdown",
   "source": [
    "2. Виведіть перші п'ять рядків (використовується метод head)"
   ],
   "metadata": {
    "collapsed": false
   }
  },
  {
   "cell_type": "code",
   "execution_count": 3,
   "outputs": [
    {
     "data": {
      "text/plain": "   rank                    Youtuber  subscribers   video views  \\\n0     1                    T-Series    245000000  2.280000e+11   \n1     2              YouTube Movies    170000000  0.000000e+00   \n2     3                     MrBeast    166000000  2.836884e+10   \n3     4  Cocomelon - Nursery Rhymes    162000000  1.640000e+11   \n4     5                   SET India    159000000  1.480000e+11   \n\n           category                       Title  uploads        Country  \\\n0             Music                    T-Series    20082          India   \n1  Film & Animation               youtubemovies        1  United States   \n2     Entertainment                     MrBeast      741  United States   \n3         Education  Cocomelon - Nursery Rhymes      966  United States   \n4             Shows                   SET India   116536          India   \n\n  Abbreviation   channel_type  ...  subscribers_for_last_30_days  \\\n0           IN          Music  ...                     2000000.0   \n1           US          Games  ...                           NaN   \n2           US  Entertainment  ...                     8000000.0   \n3           US      Education  ...                     1000000.0   \n4           IN  Entertainment  ...                     1000000.0   \n\n   created_year  created_month  created_date  \\\n0        2006.0            Mar          13.0   \n1        2006.0            Mar           5.0   \n2        2012.0            Feb          20.0   \n3        2006.0            Sep           1.0   \n4        2006.0            Sep          20.0   \n\n   Gross tertiary education enrollment (%)    Population  Unemployment rate  \\\n0                                     28.1  1.366418e+09               5.36   \n1                                     88.2  3.282395e+08              14.70   \n2                                     88.2  3.282395e+08              14.70   \n3                                     88.2  3.282395e+08              14.70   \n4                                     28.1  1.366418e+09               5.36   \n\n   Urban_population   Latitude  Longitude  \n0       471031528.0  20.593684  78.962880  \n1       270663028.0  37.090240 -95.712891  \n2       270663028.0  37.090240 -95.712891  \n3       270663028.0  37.090240 -95.712891  \n4       471031528.0  20.593684  78.962880  \n\n[5 rows x 28 columns]",
      "text/html": "<div>\n<style scoped>\n    .dataframe tbody tr th:only-of-type {\n        vertical-align: middle;\n    }\n\n    .dataframe tbody tr th {\n        vertical-align: top;\n    }\n\n    .dataframe thead th {\n        text-align: right;\n    }\n</style>\n<table border=\"1\" class=\"dataframe\">\n  <thead>\n    <tr style=\"text-align: right;\">\n      <th></th>\n      <th>rank</th>\n      <th>Youtuber</th>\n      <th>subscribers</th>\n      <th>video views</th>\n      <th>category</th>\n      <th>Title</th>\n      <th>uploads</th>\n      <th>Country</th>\n      <th>Abbreviation</th>\n      <th>channel_type</th>\n      <th>...</th>\n      <th>subscribers_for_last_30_days</th>\n      <th>created_year</th>\n      <th>created_month</th>\n      <th>created_date</th>\n      <th>Gross tertiary education enrollment (%)</th>\n      <th>Population</th>\n      <th>Unemployment rate</th>\n      <th>Urban_population</th>\n      <th>Latitude</th>\n      <th>Longitude</th>\n    </tr>\n  </thead>\n  <tbody>\n    <tr>\n      <th>0</th>\n      <td>1</td>\n      <td>T-Series</td>\n      <td>245000000</td>\n      <td>2.280000e+11</td>\n      <td>Music</td>\n      <td>T-Series</td>\n      <td>20082</td>\n      <td>India</td>\n      <td>IN</td>\n      <td>Music</td>\n      <td>...</td>\n      <td>2000000.0</td>\n      <td>2006.0</td>\n      <td>Mar</td>\n      <td>13.0</td>\n      <td>28.1</td>\n      <td>1.366418e+09</td>\n      <td>5.36</td>\n      <td>471031528.0</td>\n      <td>20.593684</td>\n      <td>78.962880</td>\n    </tr>\n    <tr>\n      <th>1</th>\n      <td>2</td>\n      <td>YouTube Movies</td>\n      <td>170000000</td>\n      <td>0.000000e+00</td>\n      <td>Film &amp; Animation</td>\n      <td>youtubemovies</td>\n      <td>1</td>\n      <td>United States</td>\n      <td>US</td>\n      <td>Games</td>\n      <td>...</td>\n      <td>NaN</td>\n      <td>2006.0</td>\n      <td>Mar</td>\n      <td>5.0</td>\n      <td>88.2</td>\n      <td>3.282395e+08</td>\n      <td>14.70</td>\n      <td>270663028.0</td>\n      <td>37.090240</td>\n      <td>-95.712891</td>\n    </tr>\n    <tr>\n      <th>2</th>\n      <td>3</td>\n      <td>MrBeast</td>\n      <td>166000000</td>\n      <td>2.836884e+10</td>\n      <td>Entertainment</td>\n      <td>MrBeast</td>\n      <td>741</td>\n      <td>United States</td>\n      <td>US</td>\n      <td>Entertainment</td>\n      <td>...</td>\n      <td>8000000.0</td>\n      <td>2012.0</td>\n      <td>Feb</td>\n      <td>20.0</td>\n      <td>88.2</td>\n      <td>3.282395e+08</td>\n      <td>14.70</td>\n      <td>270663028.0</td>\n      <td>37.090240</td>\n      <td>-95.712891</td>\n    </tr>\n    <tr>\n      <th>3</th>\n      <td>4</td>\n      <td>Cocomelon - Nursery Rhymes</td>\n      <td>162000000</td>\n      <td>1.640000e+11</td>\n      <td>Education</td>\n      <td>Cocomelon - Nursery Rhymes</td>\n      <td>966</td>\n      <td>United States</td>\n      <td>US</td>\n      <td>Education</td>\n      <td>...</td>\n      <td>1000000.0</td>\n      <td>2006.0</td>\n      <td>Sep</td>\n      <td>1.0</td>\n      <td>88.2</td>\n      <td>3.282395e+08</td>\n      <td>14.70</td>\n      <td>270663028.0</td>\n      <td>37.090240</td>\n      <td>-95.712891</td>\n    </tr>\n    <tr>\n      <th>4</th>\n      <td>5</td>\n      <td>SET India</td>\n      <td>159000000</td>\n      <td>1.480000e+11</td>\n      <td>Shows</td>\n      <td>SET India</td>\n      <td>116536</td>\n      <td>India</td>\n      <td>IN</td>\n      <td>Entertainment</td>\n      <td>...</td>\n      <td>1000000.0</td>\n      <td>2006.0</td>\n      <td>Sep</td>\n      <td>20.0</td>\n      <td>28.1</td>\n      <td>1.366418e+09</td>\n      <td>5.36</td>\n      <td>471031528.0</td>\n      <td>20.593684</td>\n      <td>78.962880</td>\n    </tr>\n  </tbody>\n</table>\n<p>5 rows × 28 columns</p>\n</div>"
     },
     "execution_count": 3,
     "metadata": {},
     "output_type": "execute_result"
    }
   ],
   "source": [
    "data.head(5)"
   ],
   "metadata": {
    "collapsed": false
   }
  },
  {
   "cell_type": "markdown",
   "source": [
    "3. Виведіть розміри датасету (використовуйте метод shape)"
   ],
   "metadata": {
    "collapsed": false
   }
  },
  {
   "cell_type": "code",
   "execution_count": 4,
   "outputs": [
    {
     "data": {
      "text/plain": "(995, 28)"
     },
     "execution_count": 4,
     "metadata": {},
     "output_type": "execute_result"
    }
   ],
   "source": [
    "data.shape"
   ],
   "metadata": {
    "collapsed": false
   }
  },
  {
   "cell_type": "markdown",
   "source": [
    "4. Перевірте, чи у всіх рядків вистачає даних: виведіть кількість пропусків  у кожному зі стовпців (використовуйте методи isna та sum).\n",
    "Якщо є пропуски, замінить їх на NaN, потім тип даних на числовий."
   ],
   "metadata": {
    "collapsed": false
   }
  },
  {
   "cell_type": "code",
   "execution_count": 5,
   "outputs": [
    {
     "data": {
      "text/plain": "0      0\n1      1\n2      0\n3      0\n4      0\n      ..\n990    0\n991    0\n992    1\n993    0\n994    0\nLength: 995, dtype: int64"
     },
     "execution_count": 5,
     "metadata": {},
     "output_type": "execute_result"
    }
   ],
   "source": [
    "pd.isna(data).sum(axis=1)"
   ],
   "metadata": {
    "collapsed": false
   }
  },
  {
   "cell_type": "markdown",
   "source": [
    "5. Замініть комірки з пропущеними значенями на середні за стовпцем. І тип даних на float."
   ],
   "metadata": {
    "collapsed": false
   }
  },
  {
   "cell_type": "code",
   "execution_count": 11,
   "outputs": [
    {
     "data": {
      "text/plain": "     rank                    Youtuber  subscribers   video views  \\\n0       1                    T-Series    245000000  2.280000e+11   \n1       2              YouTube Movies    170000000  0.000000e+00   \n2       3                     MrBeast    166000000  2.836884e+10   \n3       4  Cocomelon - Nursery Rhymes    162000000  1.640000e+11   \n4       5                   SET India    159000000  1.480000e+11   \n..    ...                         ...          ...           ...   \n990   991               Natan por Aï¿     12300000  9.029610e+09   \n991   992    Free Fire India Official     12300000  1.674410e+09   \n992   993                       Panda     12300000  2.214684e+09   \n993   994                 RobTopGames     12300000  3.741235e+08   \n994   995                Make Joke Of     12300000  2.129774e+09   \n\n             category                       Title  uploads         Country  \\\n0               Music                    T-Series    20082           India   \n1    Film & Animation               youtubemovies        1   United States   \n2       Entertainment                     MrBeast      741   United States   \n3           Education  Cocomelon - Nursery Rhymes      966   United States   \n4               Shows                   SET India   116536           India   \n..                ...                         ...      ...             ...   \n990            Sports               Natan por Aï¿     1200          Brazil   \n991    People & Blogs    Free Fire India Official     1500           India   \n992               NaN                 HybridPanda     2452  United Kingdom   \n993            Gaming                 RobTopGames       39          Sweden   \n994            Comedy                Make Joke Of       62           India   \n\n    Abbreviation   channel_type  ...  subscribers_for_last_30_days  \\\n0             IN          Music  ...                  2.000000e+06   \n1             US          Games  ...                  3.490791e+05   \n2             US  Entertainment  ...                  8.000000e+06   \n3             US      Education  ...                  1.000000e+06   \n4             IN  Entertainment  ...                  1.000000e+06   \n..           ...            ...  ...                           ...   \n990           BR  Entertainment  ...                  7.000000e+05   \n991           IN          Games  ...                  3.000000e+05   \n992           GB          Games  ...                  1.000000e+03   \n993           SE          Games  ...                  1.000000e+05   \n994           IN         Comedy  ...                  1.000000e+05   \n\n     created_year  created_month  created_date  \\\n0          2006.0            Mar          13.0   \n1          2006.0            Mar           5.0   \n2          2012.0            Feb          20.0   \n3          2006.0            Sep           1.0   \n4          2006.0            Sep          20.0   \n..            ...            ...           ...   \n990        2017.0            Feb          12.0   \n991        2018.0            Sep          14.0   \n992        2006.0            Sep          11.0   \n993        2012.0            May           9.0   \n994        2017.0            Aug           1.0   \n\n     Gross tertiary education enrollment (%)    Population  Unemployment rate  \\\n0                                       28.1  1.366418e+09               5.36   \n1                                       88.2  3.282395e+08              14.70   \n2                                       88.2  3.282395e+08              14.70   \n3                                       88.2  3.282395e+08              14.70   \n4                                       28.1  1.366418e+09               5.36   \n..                                       ...           ...                ...   \n990                                     51.3  2.125594e+08              12.08   \n991                                     28.1  1.366418e+09               5.36   \n992                                     60.0  6.683440e+07               3.85   \n993                                     67.0  1.028545e+07               6.48   \n994                                     28.1  1.366418e+09               5.36   \n\n     Urban_population   Latitude  Longitude  \n0         471031528.0  20.593684  78.962880  \n1         270663028.0  37.090240 -95.712891  \n2         270663028.0  37.090240 -95.712891  \n3         270663028.0  37.090240 -95.712891  \n4         471031528.0  20.593684  78.962880  \n..                ...        ...        ...  \n990       183241641.0 -14.235004 -51.925280  \n991       471031528.0  20.593684  78.962880  \n992        55908316.0  55.378051  -3.435973  \n993         9021165.0  60.128161  18.643501  \n994       471031528.0  20.593684  78.962880  \n\n[995 rows x 28 columns]",
      "text/html": "<div>\n<style scoped>\n    .dataframe tbody tr th:only-of-type {\n        vertical-align: middle;\n    }\n\n    .dataframe tbody tr th {\n        vertical-align: top;\n    }\n\n    .dataframe thead th {\n        text-align: right;\n    }\n</style>\n<table border=\"1\" class=\"dataframe\">\n  <thead>\n    <tr style=\"text-align: right;\">\n      <th></th>\n      <th>rank</th>\n      <th>Youtuber</th>\n      <th>subscribers</th>\n      <th>video views</th>\n      <th>category</th>\n      <th>Title</th>\n      <th>uploads</th>\n      <th>Country</th>\n      <th>Abbreviation</th>\n      <th>channel_type</th>\n      <th>...</th>\n      <th>subscribers_for_last_30_days</th>\n      <th>created_year</th>\n      <th>created_month</th>\n      <th>created_date</th>\n      <th>Gross tertiary education enrollment (%)</th>\n      <th>Population</th>\n      <th>Unemployment rate</th>\n      <th>Urban_population</th>\n      <th>Latitude</th>\n      <th>Longitude</th>\n    </tr>\n  </thead>\n  <tbody>\n    <tr>\n      <th>0</th>\n      <td>1</td>\n      <td>T-Series</td>\n      <td>245000000</td>\n      <td>2.280000e+11</td>\n      <td>Music</td>\n      <td>T-Series</td>\n      <td>20082</td>\n      <td>India</td>\n      <td>IN</td>\n      <td>Music</td>\n      <td>...</td>\n      <td>2.000000e+06</td>\n      <td>2006.0</td>\n      <td>Mar</td>\n      <td>13.0</td>\n      <td>28.1</td>\n      <td>1.366418e+09</td>\n      <td>5.36</td>\n      <td>471031528.0</td>\n      <td>20.593684</td>\n      <td>78.962880</td>\n    </tr>\n    <tr>\n      <th>1</th>\n      <td>2</td>\n      <td>YouTube Movies</td>\n      <td>170000000</td>\n      <td>0.000000e+00</td>\n      <td>Film &amp; Animation</td>\n      <td>youtubemovies</td>\n      <td>1</td>\n      <td>United States</td>\n      <td>US</td>\n      <td>Games</td>\n      <td>...</td>\n      <td>3.490791e+05</td>\n      <td>2006.0</td>\n      <td>Mar</td>\n      <td>5.0</td>\n      <td>88.2</td>\n      <td>3.282395e+08</td>\n      <td>14.70</td>\n      <td>270663028.0</td>\n      <td>37.090240</td>\n      <td>-95.712891</td>\n    </tr>\n    <tr>\n      <th>2</th>\n      <td>3</td>\n      <td>MrBeast</td>\n      <td>166000000</td>\n      <td>2.836884e+10</td>\n      <td>Entertainment</td>\n      <td>MrBeast</td>\n      <td>741</td>\n      <td>United States</td>\n      <td>US</td>\n      <td>Entertainment</td>\n      <td>...</td>\n      <td>8.000000e+06</td>\n      <td>2012.0</td>\n      <td>Feb</td>\n      <td>20.0</td>\n      <td>88.2</td>\n      <td>3.282395e+08</td>\n      <td>14.70</td>\n      <td>270663028.0</td>\n      <td>37.090240</td>\n      <td>-95.712891</td>\n    </tr>\n    <tr>\n      <th>3</th>\n      <td>4</td>\n      <td>Cocomelon - Nursery Rhymes</td>\n      <td>162000000</td>\n      <td>1.640000e+11</td>\n      <td>Education</td>\n      <td>Cocomelon - Nursery Rhymes</td>\n      <td>966</td>\n      <td>United States</td>\n      <td>US</td>\n      <td>Education</td>\n      <td>...</td>\n      <td>1.000000e+06</td>\n      <td>2006.0</td>\n      <td>Sep</td>\n      <td>1.0</td>\n      <td>88.2</td>\n      <td>3.282395e+08</td>\n      <td>14.70</td>\n      <td>270663028.0</td>\n      <td>37.090240</td>\n      <td>-95.712891</td>\n    </tr>\n    <tr>\n      <th>4</th>\n      <td>5</td>\n      <td>SET India</td>\n      <td>159000000</td>\n      <td>1.480000e+11</td>\n      <td>Shows</td>\n      <td>SET India</td>\n      <td>116536</td>\n      <td>India</td>\n      <td>IN</td>\n      <td>Entertainment</td>\n      <td>...</td>\n      <td>1.000000e+06</td>\n      <td>2006.0</td>\n      <td>Sep</td>\n      <td>20.0</td>\n      <td>28.1</td>\n      <td>1.366418e+09</td>\n      <td>5.36</td>\n      <td>471031528.0</td>\n      <td>20.593684</td>\n      <td>78.962880</td>\n    </tr>\n    <tr>\n      <th>...</th>\n      <td>...</td>\n      <td>...</td>\n      <td>...</td>\n      <td>...</td>\n      <td>...</td>\n      <td>...</td>\n      <td>...</td>\n      <td>...</td>\n      <td>...</td>\n      <td>...</td>\n      <td>...</td>\n      <td>...</td>\n      <td>...</td>\n      <td>...</td>\n      <td>...</td>\n      <td>...</td>\n      <td>...</td>\n      <td>...</td>\n      <td>...</td>\n      <td>...</td>\n      <td>...</td>\n    </tr>\n    <tr>\n      <th>990</th>\n      <td>991</td>\n      <td>Natan por Aï¿</td>\n      <td>12300000</td>\n      <td>9.029610e+09</td>\n      <td>Sports</td>\n      <td>Natan por Aï¿</td>\n      <td>1200</td>\n      <td>Brazil</td>\n      <td>BR</td>\n      <td>Entertainment</td>\n      <td>...</td>\n      <td>7.000000e+05</td>\n      <td>2017.0</td>\n      <td>Feb</td>\n      <td>12.0</td>\n      <td>51.3</td>\n      <td>2.125594e+08</td>\n      <td>12.08</td>\n      <td>183241641.0</td>\n      <td>-14.235004</td>\n      <td>-51.925280</td>\n    </tr>\n    <tr>\n      <th>991</th>\n      <td>992</td>\n      <td>Free Fire India Official</td>\n      <td>12300000</td>\n      <td>1.674410e+09</td>\n      <td>People &amp; Blogs</td>\n      <td>Free Fire India Official</td>\n      <td>1500</td>\n      <td>India</td>\n      <td>IN</td>\n      <td>Games</td>\n      <td>...</td>\n      <td>3.000000e+05</td>\n      <td>2018.0</td>\n      <td>Sep</td>\n      <td>14.0</td>\n      <td>28.1</td>\n      <td>1.366418e+09</td>\n      <td>5.36</td>\n      <td>471031528.0</td>\n      <td>20.593684</td>\n      <td>78.962880</td>\n    </tr>\n    <tr>\n      <th>992</th>\n      <td>993</td>\n      <td>Panda</td>\n      <td>12300000</td>\n      <td>2.214684e+09</td>\n      <td>NaN</td>\n      <td>HybridPanda</td>\n      <td>2452</td>\n      <td>United Kingdom</td>\n      <td>GB</td>\n      <td>Games</td>\n      <td>...</td>\n      <td>1.000000e+03</td>\n      <td>2006.0</td>\n      <td>Sep</td>\n      <td>11.0</td>\n      <td>60.0</td>\n      <td>6.683440e+07</td>\n      <td>3.85</td>\n      <td>55908316.0</td>\n      <td>55.378051</td>\n      <td>-3.435973</td>\n    </tr>\n    <tr>\n      <th>993</th>\n      <td>994</td>\n      <td>RobTopGames</td>\n      <td>12300000</td>\n      <td>3.741235e+08</td>\n      <td>Gaming</td>\n      <td>RobTopGames</td>\n      <td>39</td>\n      <td>Sweden</td>\n      <td>SE</td>\n      <td>Games</td>\n      <td>...</td>\n      <td>1.000000e+05</td>\n      <td>2012.0</td>\n      <td>May</td>\n      <td>9.0</td>\n      <td>67.0</td>\n      <td>1.028545e+07</td>\n      <td>6.48</td>\n      <td>9021165.0</td>\n      <td>60.128161</td>\n      <td>18.643501</td>\n    </tr>\n    <tr>\n      <th>994</th>\n      <td>995</td>\n      <td>Make Joke Of</td>\n      <td>12300000</td>\n      <td>2.129774e+09</td>\n      <td>Comedy</td>\n      <td>Make Joke Of</td>\n      <td>62</td>\n      <td>India</td>\n      <td>IN</td>\n      <td>Comedy</td>\n      <td>...</td>\n      <td>1.000000e+05</td>\n      <td>2017.0</td>\n      <td>Aug</td>\n      <td>1.0</td>\n      <td>28.1</td>\n      <td>1.366418e+09</td>\n      <td>5.36</td>\n      <td>471031528.0</td>\n      <td>20.593684</td>\n      <td>78.962880</td>\n    </tr>\n  </tbody>\n</table>\n<p>995 rows × 28 columns</p>\n</div>"
     },
     "execution_count": 11,
     "metadata": {},
     "output_type": "execute_result"
    }
   ],
   "source": [
    "data[[\"subscribers\",\"video views\",\"uploads\",\"video_views_rank\",\"country_rank\",\"channel_type_rank\",\"video_views_for_the_last_30_days\",\n",
    "      \"lowest_monthly_earnings\",\"highest_monthly_earnings\",\"lowest_yearly_earnings\",\"highest_yearly_earnings\",\"subscribers_for_last_30_days\",\n",
    "      \"created_year\",\"created_date\",\"Gross tertiary education enrollment (%)\",\"Population\",\"Unemployment rate\",\"Urban_population\",\n",
    "      \"Latitude\",\"Longitude\"]] = data[[\"subscribers\",\"video views\",\"uploads\",\"video_views_rank\",\"country_rank\",\"channel_type_rank\",\"video_views_for_the_last_30_days\",\n",
    "      \"lowest_monthly_earnings\",\"highest_monthly_earnings\",\"lowest_yearly_earnings\",\"highest_yearly_earnings\",\"subscribers_for_last_30_days\",\n",
    "      \"created_year\",\"created_date\",\"Gross tertiary education enrollment (%)\",\"Population\",\"Unemployment rate\",\"Urban_population\",\n",
    "      \"Latitude\",\"Longitude\"]].fillna(data[[\"subscribers\",\"video views\",\"uploads\",\"video_views_rank\",\"country_rank\",\"channel_type_rank\",\"video_views_for_the_last_30_days\",\n",
    "      \"lowest_monthly_earnings\",\"highest_monthly_earnings\",\"lowest_yearly_earnings\",\"highest_yearly_earnings\",\"subscribers_for_last_30_days\",\n",
    "      \"created_year\",\"created_date\",\"Gross tertiary education enrollment (%)\",\"Population\",\"Unemployment rate\",\"Urban_population\",\n",
    "      \"Latitude\",\"Longitude\"]].mean())\n",
    "data"
   ],
   "metadata": {
    "collapsed": false
   }
  },
  {
   "cell_type": "markdown",
   "source": [
    "6. Ще раз перевірте кількість пропусків."
   ],
   "metadata": {
    "collapsed": false
   }
  },
  {
   "cell_type": "code",
   "execution_count": 12,
   "outputs": [
    {
     "data": {
      "text/plain": "0      0\n1      0\n2      0\n3      0\n4      0\n      ..\n990    0\n991    0\n992    1\n993    0\n994    0\nLength: 995, dtype: int64"
     },
     "execution_count": 12,
     "metadata": {},
     "output_type": "execute_result"
    }
   ],
   "source": [
    "pd.isna(data).sum(axis=1)"
   ],
   "metadata": {
    "collapsed": false
   }
  },
  {
   "cell_type": "markdown",
   "source": [
    "7. Перевірте, скільки унікальних країн представлено у колонці \"Country\""
   ],
   "metadata": {
    "collapsed": false
   }
  },
  {
   "cell_type": "code",
   "execution_count": 13,
   "outputs": [
    {
     "data": {
      "text/plain": "array(['India', 'United States', nan, 'Japan', 'Russia', 'South Korea',\n       'United Kingdom', 'Canada', 'Brazil', 'Argentina', 'Chile', 'Cuba',\n       'El Salvador', 'Pakistan', 'Philippines', 'Thailand', 'Colombia',\n       'Barbados', 'Mexico', 'United Arab Emirates', 'Spain',\n       'Saudi Arabia', 'Indonesia', 'Turkey', 'Venezuela', 'Kuwait',\n       'Jordan', 'Netherlands', 'Singapore', 'Australia', 'Italy',\n       'Germany', 'France', 'Sweden', 'Afghanistan', 'Ukraine', 'Latvia',\n       'Switzerland', 'Vietnam', 'Malaysia', 'China', 'Iraq', 'Egypt',\n       'Andorra', 'Ecuador', 'Morocco', 'Peru', 'Bangladesh', 'Finland',\n       'Samoa'], dtype=object)"
     },
     "execution_count": 13,
     "metadata": {},
     "output_type": "execute_result"
    }
   ],
   "source": [
    "data[\"Country\"].unique()"
   ],
   "metadata": {
    "collapsed": false
   }
  },
  {
   "cell_type": "markdown",
   "source": [
    "8. Побудуйте діаграму розподілу переглядів (використовуйте kind='hist')"
   ],
   "metadata": {
    "collapsed": false
   }
  },
  {
   "cell_type": "code",
   "execution_count": 18,
   "outputs": [
    {
     "data": {
      "text/plain": "<Axes: ylabel='Frequency'>"
     },
     "execution_count": 18,
     "metadata": {},
     "output_type": "execute_result"
    },
    {
     "data": {
      "text/plain": "<Figure size 640x480 with 1 Axes>",
      "image/png": "[encoded data removed]"
     },
     "metadata": {},
     "output_type": "display_data"
    }
   ],
   "source": [
    "data[\"video views\"].plot(kind=\"hist\")"
   ],
   "metadata": {
    "collapsed": false
   }
  },
  {
   "cell_type": "markdown",
   "source": [
    "9. Визначте максимальну, мінімальну, середню кількість переглядів (використовуйте методи max, min, mean)"
   ],
   "metadata": {
    "collapsed": false
   }
  },
  {
   "cell_type": "code",
   "execution_count": 22,
   "outputs": [
    {
     "name": "stdout",
     "output_type": "stream",
     "text": [
      "Max views: 228000000000.0\n",
      "Min views: 0.0\n",
      "Mean views: 11039537052.03819\n"
     ]
    }
   ],
   "source": [
    "print(\"Max views:\", data[\"video views\"].max())\n",
    "print(\"Min views:\", data[\"video views\"].min())\n",
    "print(\"Mean views:\", data[\"video views\"].mean())"
   ],
   "metadata": {
    "collapsed": false
   }
  },
  {
   "cell_type": "markdown",
   "source": [
    "10. Знайдіть країну, де найбільше відео було завантажено на YouTube"
   ],
   "metadata": {
    "collapsed": false
   }
  },
  {
   "cell_type": "code",
   "execution_count": 38,
   "outputs": [
    {
     "data": {
      "text/plain": "Country\nAfghanistan                   0\nAndorra                     159\nArgentina                 17240\nAustralia                  7179\nBangladesh                    6\nBarbados                     84\nBrazil                   168178\nCanada                    46745\nChile                      6771\nChina                       128\nColombia                  10779\nCuba                          1\nEcuador                    1934\nEgypt                      5936\nEl Salvador                 543\nFinland                     172\nFrance                     2227\nGermany                    6743\nIndia                   3728212\nIndonesia                678321\nIraq                       3860\nItaly                      1805\nJapan                     18856\nJordan                     6667\nKuwait                      641\nLatvia                     1935\nMalaysia                   1716\nMexico                    33410\nMorocco                     176\nNetherlands               14329\nPakistan                 507947\nPeru                        399\nPhilippines              838543\nRussia                    19558\nSamoa                        12\nSaudi Arabia              13107\nSingapore                 32039\nSouth Korea              129724\nSpain                     70160\nSweden                     1293\nSwitzerland               10728\nThailand                 858953\nTurkey                    28189\nUkraine                  220128\nUnited Arab Emirates     188422\nUnited Kingdom            86816\nUnited States           1299609\nVenezuela                    65\nVietnam                    5408\nName: uploads, dtype: int64"
     },
     "execution_count": 38,
     "metadata": {},
     "output_type": "execute_result"
    }
   ],
   "source": [
    "# data.loc[data[\"uploads\"].idxmax()][\"Country\"]\n",
    "data.groupby(\"Country\")[\"uploads\"].sum()"
   ],
   "metadata": {
    "collapsed": false
   }
  },
  {
   "cell_type": "markdown",
   "source": [
    "11. Знайдіть відео (виведіть його назву) з найбільшою та найменшою кількістю завантажень uploads."
   ],
   "metadata": {
    "collapsed": false
   }
  },
  {
   "cell_type": "code",
   "execution_count": 33,
   "outputs": [
    {
     "data": {
      "text/plain": "Title\n#Refugio Mental                                846\n123 GO! Spanish                                520\n1MILLION Dance Studio                            0\n1theK (ï¿½ï¿½ï¿½ï¿½ï                         18950\n21 Savage                                       11\n                                             ...  \nýýýýýýýýýýýýýýýýýý                             608\nýýýýýýýýýýýýýýýýýýBAYASHITV                     93\nýýýýýýýýýýýýýýýýýýýý ýýýýýýýýýýýýýýýýýýýý       65\nýýýýýýýýýýýýýýýýýýýýý                          364\nýýýýýýýýýýýýýýýýýýýýýý                         530\nName: uploads, Length: 992, dtype: int64"
     },
     "execution_count": 33,
     "metadata": {},
     "output_type": "execute_result"
    }
   ],
   "source": [
    "data.groupby(\"Title\")[\"uploads\"].min()"
   ],
   "metadata": {
    "collapsed": false
   }
  },
  {
   "cell_type": "markdown",
   "source": [
    "Завдання 2\n",
    "1. Прочитайте csv файл (метод read_csv)"
   ],
   "metadata": {
    "collapsed": false
   }
  },
  {
   "cell_type": "code",
   "execution_count": 39,
   "outputs": [
    {
     "data": {
      "text/plain": "                                                  Name  \\\n0                        10-Day Green Smoothie Cleanse   \n1                                    11/22/63: A Novel   \n2              12 Rules for Life: An Antidote to Chaos   \n3                               1984 (Signet Classics)   \n4    5,000 Awesome Facts (About Everything!) (Natio...   \n..                                                 ...   \n545       Wrecking Ball (Diary of a Wimpy Kid Book 14)   \n546  You Are a Badass: How to Stop Doubting Your Gr...   \n547  You Are a Badass: How to Stop Doubting Your Gr...   \n548  You Are a Badass: How to Stop Doubting Your Gr...   \n549  You Are a Badass: How to Stop Doubting Your Gr...   \n\n                       Author  User Rating  Reviews  Price  Year        Genre  \n0                    JJ Smith          4.7    17350      8  2016  Non Fiction  \n1                Stephen King          4.6     2052     22  2011      Fiction  \n2          Jordan B. Peterson          4.7    18979     15  2018  Non Fiction  \n3               George Orwell          4.7    21424      6  2017      Fiction  \n4    National Geographic Kids          4.8     7665     12  2019  Non Fiction  \n..                        ...          ...      ...    ...   ...          ...  \n545               Jeff Kinney          4.9     9413      8  2019      Fiction  \n546               Jen Sincero          4.7    14331      8  2016  Non Fiction  \n547               Jen Sincero          4.7    14331      8  2017  Non Fiction  \n548               Jen Sincero          4.7    14331      8  2018  Non Fiction  \n549               Jen Sincero          4.7    14331      8  2019  Non Fiction  \n\n[550 rows x 7 columns]",
      "text/html": "<div>\n<style scoped>\n    .dataframe tbody tr th:only-of-type {\n        vertical-align: middle;\n    }\n\n    .dataframe tbody tr th {\n        vertical-align: top;\n    }\n\n    .dataframe thead th {\n        text-align: right;\n    }\n</style>\n<table border=\"1\" class=\"dataframe\">\n  <thead>\n    <tr style=\"text-align: right;\">\n      <th></th>\n      <th>Name</th>\n      <th>Author</th>\n      <th>User Rating</th>\n      <th>Reviews</th>\n      <th>Price</th>\n      <th>Year</th>\n      <th>Genre</th>\n    </tr>\n  </thead>\n  <tbody>\n    <tr>\n      <th>0</th>\n      <td>10-Day Green Smoothie Cleanse</td>\n      <td>JJ Smith</td>\n      <td>4.7</td>\n      <td>17350</td>\n      <td>8</td>\n      <td>2016</td>\n      <td>Non Fiction</td>\n    </tr>\n    <tr>\n      <th>1</th>\n      <td>11/22/63: A Novel</td>\n      <td>Stephen King</td>\n      <td>4.6</td>\n      <td>2052</td>\n      <td>22</td>\n      <td>2011</td>\n      <td>Fiction</td>\n    </tr>\n    <tr>\n      <th>2</th>\n      <td>12 Rules for Life: An Antidote to Chaos</td>\n      <td>Jordan B. Peterson</td>\n      <td>4.7</td>\n      <td>18979</td>\n      <td>15</td>\n      <td>2018</td>\n      <td>Non Fiction</td>\n    </tr>\n    <tr>\n      <th>3</th>\n      <td>1984 (Signet Classics)</td>\n      <td>George Orwell</td>\n      <td>4.7</td>\n      <td>21424</td>\n      <td>6</td>\n      <td>2017</td>\n      <td>Fiction</td>\n    </tr>\n    <tr>\n      <th>4</th>\n      <td>5,000 Awesome Facts (About Everything!) (Natio...</td>\n      <td>National Geographic Kids</td>\n      <td>4.8</td>\n      <td>7665</td>\n      <td>12</td>\n      <td>2019</td>\n      <td>Non Fiction</td>\n    </tr>\n    <tr>\n      <th>...</th>\n      <td>...</td>\n      <td>...</td>\n      <td>...</td>\n      <td>...</td>\n      <td>...</td>\n      <td>...</td>\n      <td>...</td>\n    </tr>\n    <tr>\n      <th>545</th>\n      <td>Wrecking Ball (Diary of a Wimpy Kid Book 14)</td>\n      <td>Jeff Kinney</td>\n      <td>4.9</td>\n      <td>9413</td>\n      <td>8</td>\n      <td>2019</td>\n      <td>Fiction</td>\n    </tr>\n    <tr>\n      <th>546</th>\n      <td>You Are a Badass: How to Stop Doubting Your Gr...</td>\n      <td>Jen Sincero</td>\n      <td>4.7</td>\n      <td>14331</td>\n      <td>8</td>\n      <td>2016</td>\n      <td>Non Fiction</td>\n    </tr>\n    <tr>\n      <th>547</th>\n      <td>You Are a Badass: How to Stop Doubting Your Gr...</td>\n      <td>Jen Sincero</td>\n      <td>4.7</td>\n      <td>14331</td>\n      <td>8</td>\n      <td>2017</td>\n      <td>Non Fiction</td>\n    </tr>\n    <tr>\n      <th>548</th>\n      <td>You Are a Badass: How to Stop Doubting Your Gr...</td>\n      <td>Jen Sincero</td>\n      <td>4.7</td>\n      <td>14331</td>\n      <td>8</td>\n      <td>2018</td>\n      <td>Non Fiction</td>\n    </tr>\n    <tr>\n      <th>549</th>\n      <td>You Are a Badass: How to Stop Doubting Your Gr...</td>\n      <td>Jen Sincero</td>\n      <td>4.7</td>\n      <td>14331</td>\n      <td>8</td>\n      <td>2019</td>\n      <td>Non Fiction</td>\n    </tr>\n  </tbody>\n</table>\n<p>550 rows × 7 columns</p>\n</div>"
     },
     "execution_count": 39,
     "metadata": {},
     "output_type": "execute_result"
    }
   ],
   "source": [
    "data2 = pd.read_csv(\"c:/Users/ivan/Desktop/Unik/КСВД/Сачук_HW2/bestsellers with categories.csv\", encoding=\"latin-1\")\n",
    "data2"
   ],
   "metadata": {
    "collapsed": false
   }
  },
  {
   "cell_type": "markdown",
   "source": [
    "2. Виведіть перші 10 рядків (метод head)"
   ],
   "metadata": {
    "collapsed": false
   }
  },
  {
   "cell_type": "code",
   "execution_count": 40,
   "outputs": [
    {
     "data": {
      "text/plain": "                                                Name  \\\n0                      10-Day Green Smoothie Cleanse   \n1                                  11/22/63: A Novel   \n2            12 Rules for Life: An Antidote to Chaos   \n3                             1984 (Signet Classics)   \n4  5,000 Awesome Facts (About Everything!) (Natio...   \n5      A Dance with Dragons (A Song of Ice and Fire)   \n6  A Game of Thrones / A Clash of Kings / A Storm...   \n7                     A Gentleman in Moscow: A Novel   \n8      A Higher Loyalty: Truth, Lies, and Leadership   \n9                          A Man Called Ove: A Novel   \n\n                     Author  User Rating  Reviews  Price  Year        Genre  \n0                  JJ Smith          4.7    17350      8  2016  Non Fiction  \n1              Stephen King          4.6     2052     22  2011      Fiction  \n2        Jordan B. Peterson          4.7    18979     15  2018  Non Fiction  \n3             George Orwell          4.7    21424      6  2017      Fiction  \n4  National Geographic Kids          4.8     7665     12  2019  Non Fiction  \n5       George R. R. Martin          4.4    12643     11  2011      Fiction  \n6       George R. R. Martin          4.7    19735     30  2014      Fiction  \n7               Amor Towles          4.7    19699     15  2017      Fiction  \n8               James Comey          4.7     5983      3  2018  Non Fiction  \n9           Fredrik Backman          4.6    23848      8  2016      Fiction  ",
      "text/html": "<div>\n<style scoped>\n    .dataframe tbody tr th:only-of-type {\n        vertical-align: middle;\n    }\n\n    .dataframe tbody tr th {\n        vertical-align: top;\n    }\n\n    .dataframe thead th {\n        text-align: right;\n    }\n</style>\n<table border=\"1\" class=\"dataframe\">\n  <thead>\n    <tr style=\"text-align: right;\">\n      <th></th>\n      <th>Name</th>\n      <th>Author</th>\n      <th>User Rating</th>\n      <th>Reviews</th>\n      <th>Price</th>\n      <th>Year</th>\n      <th>Genre</th>\n    </tr>\n  </thead>\n  <tbody>\n    <tr>\n      <th>0</th>\n      <td>10-Day Green Smoothie Cleanse</td>\n      <td>JJ Smith</td>\n      <td>4.7</td>\n      <td>17350</td>\n      <td>8</td>\n      <td>2016</td>\n      <td>Non Fiction</td>\n    </tr>\n    <tr>\n      <th>1</th>\n      <td>11/22/63: A Novel</td>\n      <td>Stephen King</td>\n      <td>4.6</td>\n      <td>2052</td>\n      <td>22</td>\n      <td>2011</td>\n      <td>Fiction</td>\n    </tr>\n    <tr>\n      <th>2</th>\n      <td>12 Rules for Life: An Antidote to Chaos</td>\n      <td>Jordan B. Peterson</td>\n      <td>4.7</td>\n      <td>18979</td>\n      <td>15</td>\n      <td>2018</td>\n      <td>Non Fiction</td>\n    </tr>\n    <tr>\n      <th>3</th>\n      <td>1984 (Signet Classics)</td>\n      <td>George Orwell</td>\n      <td>4.7</td>\n      <td>21424</td>\n      <td>6</td>\n      <td>2017</td>\n      <td>Fiction</td>\n    </tr>\n    <tr>\n      <th>4</th>\n      <td>5,000 Awesome Facts (About Everything!) (Natio...</td>\n      <td>National Geographic Kids</td>\n      <td>4.8</td>\n      <td>7665</td>\n      <td>12</td>\n      <td>2019</td>\n      <td>Non Fiction</td>\n    </tr>\n    <tr>\n      <th>5</th>\n      <td>A Dance with Dragons (A Song of Ice and Fire)</td>\n      <td>George R. R. Martin</td>\n      <td>4.4</td>\n      <td>12643</td>\n      <td>11</td>\n      <td>2011</td>\n      <td>Fiction</td>\n    </tr>\n    <tr>\n      <th>6</th>\n      <td>A Game of Thrones / A Clash of Kings / A Storm...</td>\n      <td>George R. R. Martin</td>\n      <td>4.7</td>\n      <td>19735</td>\n      <td>30</td>\n      <td>2014</td>\n      <td>Fiction</td>\n    </tr>\n    <tr>\n      <th>7</th>\n      <td>A Gentleman in Moscow: A Novel</td>\n      <td>Amor Towles</td>\n      <td>4.7</td>\n      <td>19699</td>\n      <td>15</td>\n      <td>2017</td>\n      <td>Fiction</td>\n    </tr>\n    <tr>\n      <th>8</th>\n      <td>A Higher Loyalty: Truth, Lies, and Leadership</td>\n      <td>James Comey</td>\n      <td>4.7</td>\n      <td>5983</td>\n      <td>3</td>\n      <td>2018</td>\n      <td>Non Fiction</td>\n    </tr>\n    <tr>\n      <th>9</th>\n      <td>A Man Called Ove: A Novel</td>\n      <td>Fredrik Backman</td>\n      <td>4.6</td>\n      <td>23848</td>\n      <td>8</td>\n      <td>2016</td>\n      <td>Fiction</td>\n    </tr>\n  </tbody>\n</table>\n</div>"
     },
     "execution_count": 40,
     "metadata": {},
     "output_type": "execute_result"
    }
   ],
   "source": [
    "data2.head(10)"
   ],
   "metadata": {
    "collapsed": false
   }
  },
  {
   "cell_type": "markdown",
   "source": [
    "3. Виведіть розміри датасету (метод shape)"
   ],
   "metadata": {
    "collapsed": false
   }
  },
  {
   "cell_type": "code",
   "execution_count": 42,
   "outputs": [
    {
     "data": {
      "text/plain": "(550, 7)"
     },
     "execution_count": 42,
     "metadata": {},
     "output_type": "execute_result"
    }
   ],
   "source": [
    "data2.shape"
   ],
   "metadata": {
    "collapsed": false
   }
  },
  {
   "cell_type": "markdown",
   "source": [
    "Питання: Про скільки книг зберігає дані датасет?\n",
    "Відповідь: 550 книг"
   ],
   "metadata": {
    "collapsed": false
   }
  },
  {
   "cell_type": "markdown",
   "source": [
    "4. Змініть назви всіх колонок: назва з маленької букви, без пробілів через підкреслення."
   ],
   "metadata": {
    "collapsed": false
   }
  },
  {
   "cell_type": "code",
   "execution_count": 43,
   "outputs": [
    {
     "data": {
      "text/plain": "                                                  name  \\\n0                        10-Day Green Smoothie Cleanse   \n1                                    11/22/63: A Novel   \n2              12 Rules for Life: An Antidote to Chaos   \n3                               1984 (Signet Classics)   \n4    5,000 Awesome Facts (About Everything!) (Natio...   \n..                                                 ...   \n545       Wrecking Ball (Diary of a Wimpy Kid Book 14)   \n546  You Are a Badass: How to Stop Doubting Your Gr...   \n547  You Are a Badass: How to Stop Doubting Your Gr...   \n548  You Are a Badass: How to Stop Doubting Your Gr...   \n549  You Are a Badass: How to Stop Doubting Your Gr...   \n\n                       author  user_rating  reviews  price  year        genre  \n0                    JJ Smith          4.7    17350      8  2016  Non Fiction  \n1                Stephen King          4.6     2052     22  2011      Fiction  \n2          Jordan B. Peterson          4.7    18979     15  2018  Non Fiction  \n3               George Orwell          4.7    21424      6  2017      Fiction  \n4    National Geographic Kids          4.8     7665     12  2019  Non Fiction  \n..                        ...          ...      ...    ...   ...          ...  \n545               Jeff Kinney          4.9     9413      8  2019      Fiction  \n546               Jen Sincero          4.7    14331      8  2016  Non Fiction  \n547               Jen Sincero          4.7    14331      8  2017  Non Fiction  \n548               Jen Sincero          4.7    14331      8  2018  Non Fiction  \n549               Jen Sincero          4.7    14331      8  2019  Non Fiction  \n\n[550 rows x 7 columns]",
      "text/html": "<div>\n<style scoped>\n    .dataframe tbody tr th:only-of-type {\n        vertical-align: middle;\n    }\n\n    .dataframe tbody tr th {\n        vertical-align: top;\n    }\n\n    .dataframe thead th {\n        text-align: right;\n    }\n</style>\n<table border=\"1\" class=\"dataframe\">\n  <thead>\n    <tr style=\"text-align: right;\">\n      <th></th>\n      <th>name</th>\n      <th>author</th>\n      <th>user_rating</th>\n      <th>reviews</th>\n      <th>price</th>\n      <th>year</th>\n      <th>genre</th>\n    </tr>\n  </thead>\n  <tbody>\n    <tr>\n      <th>0</th>\n      <td>10-Day Green Smoothie Cleanse</td>\n      <td>JJ Smith</td>\n      <td>4.7</td>\n      <td>17350</td>\n      <td>8</td>\n      <td>2016</td>\n      <td>Non Fiction</td>\n    </tr>\n    <tr>\n      <th>1</th>\n      <td>11/22/63: A Novel</td>\n      <td>Stephen King</td>\n      <td>4.6</td>\n      <td>2052</td>\n      <td>22</td>\n      <td>2011</td>\n      <td>Fiction</td>\n    </tr>\n    <tr>\n      <th>2</th>\n      <td>12 Rules for Life: An Antidote to Chaos</td>\n      <td>Jordan B. Peterson</td>\n      <td>4.7</td>\n      <td>18979</td>\n      <td>15</td>\n      <td>2018</td>\n      <td>Non Fiction</td>\n    </tr>\n    <tr>\n      <th>3</th>\n      <td>1984 (Signet Classics)</td>\n      <td>George Orwell</td>\n      <td>4.7</td>\n      <td>21424</td>\n      <td>6</td>\n      <td>2017</td>\n      <td>Fiction</td>\n    </tr>\n    <tr>\n      <th>4</th>\n      <td>5,000 Awesome Facts (About Everything!) (Natio...</td>\n      <td>National Geographic Kids</td>\n      <td>4.8</td>\n      <td>7665</td>\n      <td>12</td>\n      <td>2019</td>\n      <td>Non Fiction</td>\n    </tr>\n    <tr>\n      <th>...</th>\n      <td>...</td>\n      <td>...</td>\n      <td>...</td>\n      <td>...</td>\n      <td>...</td>\n      <td>...</td>\n      <td>...</td>\n    </tr>\n    <tr>\n      <th>545</th>\n      <td>Wrecking Ball (Diary of a Wimpy Kid Book 14)</td>\n      <td>Jeff Kinney</td>\n      <td>4.9</td>\n      <td>9413</td>\n      <td>8</td>\n      <td>2019</td>\n      <td>Fiction</td>\n    </tr>\n    <tr>\n      <th>546</th>\n      <td>You Are a Badass: How to Stop Doubting Your Gr...</td>\n      <td>Jen Sincero</td>\n      <td>4.7</td>\n      <td>14331</td>\n      <td>8</td>\n      <td>2016</td>\n      <td>Non Fiction</td>\n    </tr>\n    <tr>\n      <th>547</th>\n      <td>You Are a Badass: How to Stop Doubting Your Gr...</td>\n      <td>Jen Sincero</td>\n      <td>4.7</td>\n      <td>14331</td>\n      <td>8</td>\n      <td>2017</td>\n      <td>Non Fiction</td>\n    </tr>\n    <tr>\n      <th>548</th>\n      <td>You Are a Badass: How to Stop Doubting Your Gr...</td>\n      <td>Jen Sincero</td>\n      <td>4.7</td>\n      <td>14331</td>\n      <td>8</td>\n      <td>2018</td>\n      <td>Non Fiction</td>\n    </tr>\n    <tr>\n      <th>549</th>\n      <td>You Are a Badass: How to Stop Doubting Your Gr...</td>\n      <td>Jen Sincero</td>\n      <td>4.7</td>\n      <td>14331</td>\n      <td>8</td>\n      <td>2019</td>\n      <td>Non Fiction</td>\n    </tr>\n  </tbody>\n</table>\n<p>550 rows × 7 columns</p>\n</div>"
     },
     "execution_count": 43,
     "metadata": {},
     "output_type": "execute_result"
    }
   ],
   "source": [
    "data2.columns = ['name', 'author', 'user_rating', 'reviews', 'price', 'year', 'genre']\n",
    "data2"
   ],
   "metadata": {
    "collapsed": false
   }
  },
  {
   "cell_type": "markdown",
   "source": [
    "5. Вивести кількість пропусків у кожному стовпчику."
   ],
   "metadata": {
    "collapsed": false
   }
  },
  {
   "cell_type": "code",
   "execution_count": 47,
   "outputs": [
    {
     "data": {
      "text/plain": "name           0\nauthor         0\nuser_rating    0\nreviews        0\nprice          0\nyear           0\ngenre          0\ndtype: int64"
     },
     "execution_count": 47,
     "metadata": {},
     "output_type": "execute_result"
    }
   ],
   "source": [
    "pd.isna(data2).sum()"
   ],
   "metadata": {
    "collapsed": false
   }
  },
  {
   "cell_type": "markdown",
   "source": [
    "Питання: Чи є в якихось змінних пропуски?\n",
    "Відповідь: ні"
   ],
   "metadata": {
    "collapsed": false
   }
  },
  {
   "cell_type": "markdown",
   "source": [
    "6. За допомогою методу unique  перевірте. Які є унікальні жанри в стовпці genre"
   ],
   "metadata": {
    "collapsed": false
   }
  },
  {
   "cell_type": "code",
   "execution_count": 48,
   "outputs": [
    {
     "data": {
      "text/plain": "array(['Non Fiction', 'Fiction'], dtype=object)"
     },
     "execution_count": 48,
     "metadata": {},
     "output_type": "execute_result"
    }
   ],
   "source": [
    "data2[\"genre\"].unique()"
   ],
   "metadata": {
    "collapsed": false
   }
  },
  {
   "cell_type": "markdown",
   "source": [
    "7. Визначте максимальну, мінімальну, медіанну ціну за допомогою методів  max, min, mean, median"
   ],
   "metadata": {
    "collapsed": false
   }
  },
  {
   "cell_type": "code",
   "execution_count": 50,
   "outputs": [
    {
     "name": "stdout",
     "output_type": "stream",
     "text": [
      "Max price: 105\n",
      "Min price: 0\n",
      "Median price: 11.0\n",
      "Mean price: 13.1\n"
     ]
    }
   ],
   "source": [
    "print(\n",
    "      f\"Max price: {data2['price'].max()}\\n\"\n",
    "      f\"Min price: {data2['price'].min()}\\n\"\n",
    "      f\"Median price: {data2['price'].median()}\\n\"\n",
    "      f\"Mean price: {data2['price'].mean()}\"\n",
    ")"
   ],
   "metadata": {
    "collapsed": false
   }
  },
  {
   "cell_type": "markdown",
   "source": [
    "8. Виконайте наступні завдання з пошуку і сортування даних:\n",
    "Питання: Який рейтинг у датасеті найвищий?"
   ],
   "metadata": {
    "collapsed": false
   }
  },
  {
   "cell_type": "code",
   "execution_count": 75,
   "outputs": [
    {
     "data": {
      "text/plain": "                                                  name  user_rating\n40            Brown Bear, Brown Bear, What Do You See?          4.9\n41            Brown Bear, Brown Bear, What Do You See?          4.9\n81   Dog Man and Cat Kid: From the Creator of Capta...          4.9\n82   Dog Man: A Tale of Two Kitties: From the Creat...          4.9\n83   Dog Man: Brawl of the Wild: From the Creator o...          4.9\n84   Dog Man: Brawl of the Wild: From the Creator o...          4.9\n85   Dog Man: Fetch-22: From the Creator of Captain...          4.9\n86   Dog Man: For Whom the Ball Rolls: From the Cre...          4.9\n87   Dog Man: Lord of the Fleas: From the Creator o...          4.9\n146  Goodnight, Goodnight Construction Site (Hardco...          4.9\n147  Goodnight, Goodnight Construction Site (Hardco...          4.9\n151                           Hamilton: The Revolution          4.9\n153  Harry Potter and the Chamber of Secrets: The I...          4.9\n155  Harry Potter and the Goblet of Fire: The Illus...          4.9\n156  Harry Potter and the Prisoner of Azkaban: The ...          4.9\n157  Harry Potter and the Sorcerer's Stone: The Ill...          4.9\n174                       Humans of New York : Stories          4.9\n187  Jesus Calling: Enjoying Peace in His Presence ...          4.9\n188  Jesus Calling: Enjoying Peace in His Presence ...          4.9\n189  Jesus Calling: Enjoying Peace in His Presence ...          4.9\n190  Jesus Calling: Enjoying Peace in His Presence ...          4.9\n191  Jesus Calling: Enjoying Peace in His Presence ...          4.9\n192  Jesus Calling: Enjoying Peace in His Presence ...          4.9\n207  Last Week Tonight with John Oliver Presents A ...          4.9\n219                                  Little Blue Truck          4.9\n244                        Obama: An Intimate Portrait          4.9\n245                          Oh, the Places You'll Go!          4.9\n246                          Oh, the Places You'll Go!          4.9\n247                          Oh, the Places You'll Go!          4.9\n248                          Oh, the Places You'll Go!          4.9\n249                          Oh, the Places You'll Go!          4.9\n250                          Oh, the Places You'll Go!          4.9\n251                          Oh, the Places You'll Go!          4.9\n252                          Oh, the Places You'll Go!          4.9\n288  Rush Revere and the Brave Pilgrims: Time-Trave...          4.9\n289  Rush Revere and the First Patriots: Time-Trave...          4.9\n303             Strange Planet (Strange Planet Series)          4.9\n420               The Legend of Zelda: Hyrule Historia          4.9\n431                                 The Magnolia Story          4.9\n476                        The Very Hungry Caterpillar          4.9\n477                        The Very Hungry Caterpillar          4.9\n478                        The Very Hungry Caterpillar          4.9\n479                        The Very Hungry Caterpillar          4.9\n480                        The Very Hungry Caterpillar          4.9\n481                        The Very Hungry Caterpillar          4.9\n482                        The Very Hungry Caterpillar          4.9\n486                   The Wonderful Things You Will Be          4.9\n487                   The Wonderful Things You Will Be          4.9\n488                   The Wonderful Things You Will Be          4.9\n489                   The Wonderful Things You Will Be          4.9\n521                             Unfreedom of the Press          4.9\n545       Wrecking Ball (Diary of a Wimpy Kid Book 14)          4.9",
      "text/html": "<div>\n<style scoped>\n    .dataframe tbody tr th:only-of-type {\n        vertical-align: middle;\n    }\n\n    .dataframe tbody tr th {\n        vertical-align: top;\n    }\n\n    .dataframe thead th {\n        text-align: right;\n    }\n</style>\n<table border=\"1\" class=\"dataframe\">\n  <thead>\n    <tr style=\"text-align: right;\">\n      <th></th>\n      <th>name</th>\n      <th>user_rating</th>\n    </tr>\n  </thead>\n  <tbody>\n    <tr>\n      <th>40</th>\n      <td>Brown Bear, Brown Bear, What Do You See?</td>\n      <td>4.9</td>\n    </tr>\n    <tr>\n      <th>41</th>\n      <td>Brown Bear, Brown Bear, What Do You See?</td>\n      <td>4.9</td>\n    </tr>\n    <tr>\n      <th>81</th>\n      <td>Dog Man and Cat Kid: From the Creator of Capta...</td>\n      <td>4.9</td>\n    </tr>\n    <tr>\n      <th>82</th>\n      <td>Dog Man: A Tale of Two Kitties: From the Creat...</td>\n      <td>4.9</td>\n    </tr>\n    <tr>\n      <th>83</th>\n      <td>Dog Man: Brawl of the Wild: From the Creator o...</td>\n      <td>4.9</td>\n    </tr>\n    <tr>\n      <th>84</th>\n      <td>Dog Man: Brawl of the Wild: From the Creator o...</td>\n      <td>4.9</td>\n    </tr>\n    <tr>\n      <th>85</th>\n      <td>Dog Man: Fetch-22: From the Creator of Captain...</td>\n      <td>4.9</td>\n    </tr>\n    <tr>\n      <th>86</th>\n      <td>Dog Man: For Whom the Ball Rolls: From the Cre...</td>\n      <td>4.9</td>\n    </tr>\n    <tr>\n      <th>87</th>\n      <td>Dog Man: Lord of the Fleas: From the Creator o...</td>\n      <td>4.9</td>\n    </tr>\n    <tr>\n      <th>146</th>\n      <td>Goodnight, Goodnight Construction Site (Hardco...</td>\n      <td>4.9</td>\n    </tr>\n    <tr>\n      <th>147</th>\n      <td>Goodnight, Goodnight Construction Site (Hardco...</td>\n      <td>4.9</td>\n    </tr>\n    <tr>\n      <th>151</th>\n      <td>Hamilton: The Revolution</td>\n      <td>4.9</td>\n    </tr>\n    <tr>\n      <th>153</th>\n      <td>Harry Potter and the Chamber of Secrets: The I...</td>\n      <td>4.9</td>\n    </tr>\n    <tr>\n      <th>155</th>\n      <td>Harry Potter and the Goblet of Fire: The Illus...</td>\n      <td>4.9</td>\n    </tr>\n    <tr>\n      <th>156</th>\n      <td>Harry Potter and the Prisoner of Azkaban: The ...</td>\n      <td>4.9</td>\n    </tr>\n    <tr>\n      <th>157</th>\n      <td>Harry Potter and the Sorcerer's Stone: The Ill...</td>\n      <td>4.9</td>\n    </tr>\n    <tr>\n      <th>174</th>\n      <td>Humans of New York : Stories</td>\n      <td>4.9</td>\n    </tr>\n    <tr>\n      <th>187</th>\n      <td>Jesus Calling: Enjoying Peace in His Presence ...</td>\n      <td>4.9</td>\n    </tr>\n    <tr>\n      <th>188</th>\n      <td>Jesus Calling: Enjoying Peace in His Presence ...</td>\n      <td>4.9</td>\n    </tr>\n    <tr>\n      <th>189</th>\n      <td>Jesus Calling: Enjoying Peace in His Presence ...</td>\n      <td>4.9</td>\n    </tr>\n    <tr>\n      <th>190</th>\n      <td>Jesus Calling: Enjoying Peace in His Presence ...</td>\n      <td>4.9</td>\n    </tr>\n    <tr>\n      <th>191</th>\n      <td>Jesus Calling: Enjoying Peace in His Presence ...</td>\n      <td>4.9</td>\n    </tr>\n    <tr>\n      <th>192</th>\n      <td>Jesus Calling: Enjoying Peace in His Presence ...</td>\n      <td>4.9</td>\n    </tr>\n    <tr>\n      <th>207</th>\n      <td>Last Week Tonight with John Oliver Presents A ...</td>\n      <td>4.9</td>\n    </tr>\n    <tr>\n      <th>219</th>\n      <td>Little Blue Truck</td>\n      <td>4.9</td>\n    </tr>\n    <tr>\n      <th>244</th>\n      <td>Obama: An Intimate Portrait</td>\n      <td>4.9</td>\n    </tr>\n    <tr>\n      <th>245</th>\n      <td>Oh, the Places You'll Go!</td>\n      <td>4.9</td>\n    </tr>\n    <tr>\n      <th>246</th>\n      <td>Oh, the Places You'll Go!</td>\n      <td>4.9</td>\n    </tr>\n    <tr>\n      <th>247</th>\n      <td>Oh, the Places You'll Go!</td>\n      <td>4.9</td>\n    </tr>\n    <tr>\n      <th>248</th>\n      <td>Oh, the Places You'll Go!</td>\n      <td>4.9</td>\n    </tr>\n    <tr>\n      <th>249</th>\n      <td>Oh, the Places You'll Go!</td>\n      <td>4.9</td>\n    </tr>\n    <tr>\n      <th>250</th>\n      <td>Oh, the Places You'll Go!</td>\n      <td>4.9</td>\n    </tr>\n    <tr>\n      <th>251</th>\n      <td>Oh, the Places You'll Go!</td>\n      <td>4.9</td>\n    </tr>\n    <tr>\n      <th>252</th>\n      <td>Oh, the Places You'll Go!</td>\n      <td>4.9</td>\n    </tr>\n    <tr>\n      <th>288</th>\n      <td>Rush Revere and the Brave Pilgrims: Time-Trave...</td>\n      <td>4.9</td>\n    </tr>\n    <tr>\n      <th>289</th>\n      <td>Rush Revere and the First Patriots: Time-Trave...</td>\n      <td>4.9</td>\n    </tr>\n    <tr>\n      <th>303</th>\n      <td>Strange Planet (Strange Planet Series)</td>\n      <td>4.9</td>\n    </tr>\n    <tr>\n      <th>420</th>\n      <td>The Legend of Zelda: Hyrule Historia</td>\n      <td>4.9</td>\n    </tr>\n    <tr>\n      <th>431</th>\n      <td>The Magnolia Story</td>\n      <td>4.9</td>\n    </tr>\n    <tr>\n      <th>476</th>\n      <td>The Very Hungry Caterpillar</td>\n      <td>4.9</td>\n    </tr>\n    <tr>\n      <th>477</th>\n      <td>The Very Hungry Caterpillar</td>\n      <td>4.9</td>\n    </tr>\n    <tr>\n      <th>478</th>\n      <td>The Very Hungry Caterpillar</td>\n      <td>4.9</td>\n    </tr>\n    <tr>\n      <th>479</th>\n      <td>The Very Hungry Caterpillar</td>\n      <td>4.9</td>\n    </tr>\n    <tr>\n      <th>480</th>\n      <td>The Very Hungry Caterpillar</td>\n      <td>4.9</td>\n    </tr>\n    <tr>\n      <th>481</th>\n      <td>The Very Hungry Caterpillar</td>\n      <td>4.9</td>\n    </tr>\n    <tr>\n      <th>482</th>\n      <td>The Very Hungry Caterpillar</td>\n      <td>4.9</td>\n    </tr>\n    <tr>\n      <th>486</th>\n      <td>The Wonderful Things You Will Be</td>\n      <td>4.9</td>\n    </tr>\n    <tr>\n      <th>487</th>\n      <td>The Wonderful Things You Will Be</td>\n      <td>4.9</td>\n    </tr>\n    <tr>\n      <th>488</th>\n      <td>The Wonderful Things You Will Be</td>\n      <td>4.9</td>\n    </tr>\n    <tr>\n      <th>489</th>\n      <td>The Wonderful Things You Will Be</td>\n      <td>4.9</td>\n    </tr>\n    <tr>\n      <th>521</th>\n      <td>Unfreedom of the Press</td>\n      <td>4.9</td>\n    </tr>\n    <tr>\n      <th>545</th>\n      <td>Wrecking Ball (Diary of a Wimpy Kid Book 14)</td>\n      <td>4.9</td>\n    </tr>\n  </tbody>\n</table>\n</div>"
     },
     "execution_count": 75,
     "metadata": {},
     "output_type": "execute_result"
    }
   ],
   "source": [
    "data2[data2[\"user_rating\"]==data2[\"user_rating\"].max()][[\"name\",\"user_rating\"]]"
   ],
   "metadata": {
    "collapsed": false
   }
  },
  {
   "cell_type": "markdown",
   "source": [
    "Питання: Скільки книг мають такий рейтинг?"
   ],
   "metadata": {
    "collapsed": false
   }
  },
  {
   "cell_type": "code",
   "execution_count": 76,
   "outputs": [
    {
     "data": {
      "text/plain": "name    52\ndtype: int64"
     },
     "execution_count": 76,
     "metadata": {},
     "output_type": "execute_result"
    }
   ],
   "source": [
    "data2[data2[\"user_rating\"]==data2[\"user_rating\"].max()][[\"name\"]].count()"
   ],
   "metadata": {
    "collapsed": false
   }
  },
  {
   "cell_type": "markdown",
   "source": [
    "Питання: Яка книга має найбільше відгуків?"
   ],
   "metadata": {
    "collapsed": false
   }
  },
  {
   "cell_type": "code",
   "execution_count": 96,
   "outputs": [
    {
     "data": {
      "text/plain": "                        name  reviews\n534  Where the Crawdads Sing    87841",
      "text/html": "<div>\n<style scoped>\n    .dataframe tbody tr th:only-of-type {\n        vertical-align: middle;\n    }\n\n    .dataframe tbody tr th {\n        vertical-align: top;\n    }\n\n    .dataframe thead th {\n        text-align: right;\n    }\n</style>\n<table border=\"1\" class=\"dataframe\">\n  <thead>\n    <tr style=\"text-align: right;\">\n      <th></th>\n      <th>name</th>\n      <th>reviews</th>\n    </tr>\n  </thead>\n  <tbody>\n    <tr>\n      <th>534</th>\n      <td>Where the Crawdads Sing</td>\n      <td>87841</td>\n    </tr>\n  </tbody>\n</table>\n</div>"
     },
     "execution_count": 96,
     "metadata": {},
     "output_type": "execute_result"
    }
   ],
   "source": [
    "data2[data2[\"reviews\"]==data2[\"reviews\"].max()][[\"name\",\"reviews\"]]"
   ],
   "metadata": {
    "collapsed": false
   }
  },
  {
   "cell_type": "markdown",
   "source": [
    "Питання: З тих книг, що потрапили до Топ-50 у 2010 році, яка книга найдорожча?"
   ],
   "metadata": {
    "collapsed": false
   }
  },
  {
   "cell_type": "code",
   "execution_count": 127,
   "outputs": [
    {
     "data": {
      "text/plain": "                                                  name  \\\n272  Publication Manual of the American Psychologic...   \n\n                                 author  user_rating  reviews  price  year  \\\n272  American Psychological Association          4.5     8580     46  2010   \n\n           genre  \n272  Non Fiction  ",
      "text/html": "<div>\n<style scoped>\n    .dataframe tbody tr th:only-of-type {\n        vertical-align: middle;\n    }\n\n    .dataframe tbody tr th {\n        vertical-align: top;\n    }\n\n    .dataframe thead th {\n        text-align: right;\n    }\n</style>\n<table border=\"1\" class=\"dataframe\">\n  <thead>\n    <tr style=\"text-align: right;\">\n      <th></th>\n      <th>name</th>\n      <th>author</th>\n      <th>user_rating</th>\n      <th>reviews</th>\n      <th>price</th>\n      <th>year</th>\n      <th>genre</th>\n    </tr>\n  </thead>\n  <tbody>\n    <tr>\n      <th>272</th>\n      <td>Publication Manual of the American Psychologic...</td>\n      <td>American Psychological Association</td>\n      <td>4.5</td>\n      <td>8580</td>\n      <td>46</td>\n      <td>2010</td>\n      <td>Non Fiction</td>\n    </tr>\n  </tbody>\n</table>\n</div>"
     },
     "execution_count": 127,
     "metadata": {},
     "output_type": "execute_result"
    }
   ],
   "source": [
    "df = data2[data2[\"year\"]==2010].sort_values(by=[\"user_rating\"]).tail(50)\n",
    "df[df[\"price\"]==df[\"price\"].max()]"
   ],
   "metadata": {
    "collapsed": false
   }
  },
  {
   "cell_type": "markdown",
   "source": [
    "Питання : Скільки книг жанру Fiction потрапили до Топ-50 у 2012 році"
   ],
   "metadata": {
    "collapsed": false
   }
  },
  {
   "cell_type": "code",
   "execution_count": 141,
   "outputs": [
    {
     "data": {
      "text/plain": "21"
     },
     "execution_count": 141,
     "metadata": {},
     "output_type": "execute_result"
    }
   ],
   "source": [
    "df = data2[data2[\"year\"]==2012].sort_values(by=[\"user_rating\"]).tail(50)\n",
    "df[\"genre\"][df[\"genre\"]==\"Fiction\"].count()"
   ],
   "metadata": {
    "collapsed": false
   }
  },
  {
   "cell_type": "markdown",
   "source": [
    "Питання : Скільки книг з рейтингом 4.9 потрапило до рейтингу у 2010 та 2011 роках (використовуйте | або метод isin)?"
   ],
   "metadata": {
    "collapsed": false
   }
  },
  {
   "cell_type": "code",
   "execution_count": 166,
   "outputs": [
    {
     "data": {
      "text/plain": "11"
     },
     "execution_count": 166,
     "metadata": {},
     "output_type": "execute_result"
    }
   ],
   "source": [
    "df1 = data2[data2[\"year\"]==2010].sort_values(by=[\"user_rating\"]).tail(50)\n",
    "df2 = data2[data2[\"year\"]==2011].sort_values(by=[\"user_rating\"]).tail(50)\n",
    "df = pd.concat([df1, df2]).sort_values(by=[\"user_rating\"]).tail(50)\n",
    "df[\"user_rating\"][df[\"user_rating\"]==4.6].count()"
   ],
   "metadata": {
    "collapsed": false
   }
  },
  {
   "cell_type": "markdown",
   "source": [
    "9. Вивести максимальну і  мінімальну ціну для жанру Fiction I NonFiction (за допомогою методів  groupby та agg, для підрахунку мінімальних та максимальних значень використовуйте max та min). Використовуйте тількі потрібні вам стовпці."
   ],
   "metadata": {
    "collapsed": false
   }
  },
  {
   "cell_type": "code",
   "execution_count": 189,
   "outputs": [
    {
     "data": {
      "text/plain": "            price     \n              min  max\ngenre                 \nFiction         0   82\nNon Fiction     0  105",
      "text/html": "<div>\n<style scoped>\n    .dataframe tbody tr th:only-of-type {\n        vertical-align: middle;\n    }\n\n    .dataframe tbody tr th {\n        vertical-align: top;\n    }\n\n    .dataframe thead tr th {\n        text-align: left;\n    }\n\n    .dataframe thead tr:last-of-type th {\n        text-align: right;\n    }\n</style>\n<table border=\"1\" class=\"dataframe\">\n  <thead>\n    <tr>\n      <th></th>\n      <th colspan=\"2\" halign=\"left\">price</th>\n    </tr>\n    <tr>\n      <th></th>\n      <th>min</th>\n      <th>max</th>\n    </tr>\n    <tr>\n      <th>genre</th>\n      <th></th>\n      <th></th>\n    </tr>\n  </thead>\n  <tbody>\n    <tr>\n      <th>Fiction</th>\n      <td>0</td>\n      <td>82</td>\n    </tr>\n    <tr>\n      <th>Non Fiction</th>\n      <td>0</td>\n      <td>105</td>\n    </tr>\n  </tbody>\n</table>\n</div>"
     },
     "execution_count": 189,
     "metadata": {},
     "output_type": "execute_result"
    }
   ],
   "source": [
    "data2.groupby(\"genre\")[[\"price\"]].agg({\"price\" : [\"min\",\"max\"]})"
   ],
   "metadata": {
    "collapsed": false
   }
  },
  {
   "cell_type": "code",
   "execution_count": null,
   "outputs": [],
   "source": [],
   "metadata": {
    "collapsed": false
   }
  }
 ],
 "metadata": {
  "kernelspec": {
   "display_name": "Python 3",
   "language": "python",
   "name": "python3"
  },
  "language_info": {
   "codemirror_mode": {
    "name": "ipython",
    "version": 2
   },
   "file_extension": ".py",
   "mimetype": "text/x-python",
   "name": "python",
   "nbconvert_exporter": "python",
   "pygments_lexer": "ipython2",
   "version": "2.7.6"
  }
 },
 "nbformat": 4,
 "nbformat_minor": 0
}
